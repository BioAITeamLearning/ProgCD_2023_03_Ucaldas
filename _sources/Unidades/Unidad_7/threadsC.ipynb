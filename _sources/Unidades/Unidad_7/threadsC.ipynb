{
  "cells": [
    {
      "cell_type": "markdown",
      "metadata": {
        "id": "VJhrlWOMHtjh"
      },
      "source": [
        "# threadsC.ipynb"
      ]
    },
    {
      "cell_type": "code",
      "execution_count": null,
      "metadata": {
        "colab": {
          "base_uri": "https://localhost:8080/"
        },
        "id": "PCswJXvIPvDd",
        "outputId": "dc019f60-0a7e-4edc-e22b-112305ec5a83"
      },
      "outputs": [
        {
          "name": "stdout",
          "output_type": "stream",
          "text": [
            "gcc (Ubuntu 11.3.0-1ubuntu1~22.04) 11.3.0\n",
            "Copyright (C) 2021 Free Software Foundation, Inc.\n",
            "This is free software; see the source for copying conditions.  There is NO\n",
            "warranty; not even for MERCHANTABILITY or FITNESS FOR A PARTICULAR PURPOSE.\n",
            "\n"
          ]
        }
      ],
      "source": [
        "# Verificar la versión de GCC\n",
        "!gcc --version"
      ]
    },
    {
      "cell_type": "markdown",
      "metadata": {
        "id": "1lUE56WVcjNe"
      },
      "source": [
        "## Sin utilizar threads"
      ]
    },
    {
      "cell_type": "code",
      "execution_count": null,
      "metadata": {
        "colab": {
          "base_uri": "https://localhost:8080/"
        },
        "id": "kRGXMkRhHtjh",
        "outputId": "3f7d351b-8b9c-4dd3-d7c9-6ca10527e446"
      },
      "outputs": [
        {
          "name": "stdout",
          "output_type": "stream",
          "text": [
            "Overwriting hellothreadsC.c\n"
          ]
        }
      ],
      "source": [
        "%%writefile hellothreadsC.c\n",
        "#include <stdio.h>\n",
        "int main( ){\n",
        "  printf(\"Hola, aún no estoy usando los hilos con C\");\n",
        "  return 0;\n",
        "}"
      ]
    },
    {
      "cell_type": "code",
      "execution_count": null,
      "metadata": {
        "colab": {
          "base_uri": "https://localhost:8080/"
        },
        "id": "blzbUe0jHtjh",
        "outputId": "e3a0df8a-63de-4639-b513-de567d933e84"
      },
      "outputs": [
        {
          "name": "stdout",
          "output_type": "stream",
          "text": [
            "Hola, aún no estoy usando los hilos con C"
          ]
        }
      ],
      "source": [
        "!gcc hellothreadsC.c -o hellothreadsC\n",
        "!./hellothreadsC"
      ]
    },
    {
      "cell_type": "markdown",
      "metadata": {
        "id": "3xYH48dNAT0H"
      },
      "source": [
        "## Algo de punteros"
      ]
    },
    {
      "cell_type": "code",
      "execution_count": null,
      "metadata": {
        "id": "Tna7SB2vAT0H",
        "outputId": "e6cd5909-041c-4429-cbf3-14a746c50204"
      },
      "outputs": [
        {
          "name": "stdout",
          "output_type": "stream",
          "text": [
            "Overwriting punteros.c\n"
          ]
        }
      ],
      "source": [
        "%%writefile punteros.c\n",
        "#include <stdio.h>\n",
        "int main() {\n",
        "    int num = 42;        // Declaración de una variable entera\n",
        "    int *p;              // Declaración de un puntero a entero\n",
        "    p = &num;            // Asignación de la dirección de memoria de 'num' al puntero 'p'\n",
        "\n",
        "    printf(\"Valor de num: %d\\n\", num);             // Imprime el valor de 'num'\n",
        "    printf(\"Dirección de num: %p\\n\", &num);        // Imprime la dirección de memoria de 'num'\n",
        "    printf(\"Valor de p: %p\\n\", p);                 // Imprime el valor de 'p', que es la dirección de memoria de 'num'\n",
        "    printf(\"Valor apuntado por p: %d\\n\", *p);      // Imprime el valor de la variable a la que apunta 'p' (el valor de 'num')\n",
        "\n",
        "    return 0;\n",
        "}"
      ]
    },
    {
      "cell_type": "code",
      "execution_count": null,
      "metadata": {
        "id": "KEZhOMcyAT0I",
        "outputId": "4a3259ec-2015-4176-db09-000f6cac5b15"
      },
      "outputs": [
        {
          "name": "stdout",
          "output_type": "stream",
          "text": [
            "Valor de num: 42\n",
            "Dirección de num: 0x7ffff0583dcc\n",
            "Valor de p: 0x7ffff0583dcc\n",
            "Valor apuntado por p: 42\n"
          ]
        }
      ],
      "source": [
        "!gcc punteros.c -o punteros\n",
        "!./punteros"
      ]
    },
    {
      "cell_type": "markdown",
      "metadata": {
        "id": "x1s6nSNZQS3W"
      },
      "source": [
        "## Uso de Hilos en C: definición de hilos"
      ]
    },
    {
      "cell_type": "code",
      "execution_count": null,
      "metadata": {
        "colab": {
          "base_uri": "https://localhost:8080/"
        },
        "id": "RyTZiMjxQHFA",
        "outputId": "2ae1623d-4257-43fc-da54-da482d3d0c0a"
      },
      "outputs": [
        {
          "name": "stdout",
          "output_type": "stream",
          "text": [
            "Overwriting hellothreadsC.c\n"
          ]
        }
      ],
      "source": [
        "%%writefile hellothreadsC.c\n",
        "#include <stdio.h>\n",
        "#include <pthread.h>\n",
        "\n",
        "#define NUM_THREADS 5 // Definimos una constante para el número de hilos a crear.\n",
        "\n",
        "// Esta función será ejecutada por cada hilo creado.\n",
        "// Imprime un mensaje de saludo y el identificador del hilo.\n",
        "void *print_hello(void *thread_id) {\n",
        "    int id = *((int*) thread_id);\n",
        "    printf(\"Hola, soy el hilo %d\\n\", id);\n",
        "    pthread_exit(NULL); // Termina la ejecución del hilo.\n",
        "}\n",
        "\n",
        "int main() {\n",
        "    pthread_t threads[NUM_THREADS]; // Creamos un arreglo de hilos.\n",
        "    int thread_ids[NUM_THREADS]; // Creamos un arreglo de identificadores de hilo.\n",
        "\n",
        "    // Creamos NUM_THREADS hilos y los almacenamos en el arreglo threads.\n",
        "    // Cada hilo ejecuta la función print_hello y le pasamos como argumento el identificador del hilo.\n",
        "    for (int i = 0; i < NUM_THREADS; i++) {\n",
        "        thread_ids[i] = i; // Almacenamos el identificador del hilo en el arreglo thread_ids.\n",
        "        pthread_create(&threads[i], NULL, print_hello, (void*) &thread_ids[i]); // Creamos el hilo.\n",
        "    }\n",
        "\n",
        "    printf(\"Hola soy el hilo principal\\n\"); // Mensaje de saludo del hilo principal.\n",
        "    pthread_exit(NULL); // Termina la ejecución del hilo principal.\n",
        "    return 0;\n",
        "}"
      ]
    },
    {
      "cell_type": "code",
      "execution_count": null,
      "metadata": {
        "colab": {
          "base_uri": "https://localhost:8080/"
        },
        "id": "KUmtHPthQZo0",
        "outputId": "747ea680-0546-40d8-e606-054486f7caca"
      },
      "outputs": [
        {
          "name": "stdout",
          "output_type": "stream",
          "text": [
            "Hola, soy el hilo 0\n",
            "Hola, soy el hilo 2\n",
            "Hola, soy el hilo 1\n",
            "Hola, soy el hilo 3\n",
            "Hola soy el hilo principal\n",
            "Hola, soy el hilo 4\n"
          ]
        }
      ],
      "source": [
        "# Importante agregar: \"-pthread\" para el correcto funcionamiento. Esta opción le dice al compilador que incluya la biblioteca de hilos.\n",
        "!gcc -pthread  hellothreadsC.c -o hellothreadsC\n",
        "!./hellothreadsC"
      ]
    },
    {
      "cell_type": "markdown",
      "metadata": {
        "id": "4isTc-ZQXj17"
      },
      "source": [
        "## Uso de Hilos en C: uso del Join"
      ]
    },
    {
      "cell_type": "code",
      "execution_count": null,
      "metadata": {
        "colab": {
          "base_uri": "https://localhost:8080/"
        },
        "id": "CTd30o_iMMVn",
        "outputId": "cbc4e8cb-8267-4bee-fc89-fa818d0694f8"
      },
      "outputs": [
        {
          "name": "stdout",
          "output_type": "stream",
          "text": [
            "Overwriting hellothreadsC.c\n"
          ]
        }
      ],
      "source": [
        "%%writefile hellothreadsC.c\n",
        "#include <stdio.h>\n",
        "#include <pthread.h>\n",
        "\n",
        "#define NUM_THREADS 5 // Definimos una constante para el número de hilos a crear.\n",
        "\n",
        "// Esta función será ejecutada por cada hilo creado.\n",
        "// Imprime un mensaje de saludo y el identificador del hilo.\n",
        "void *print_hello(void *thread_id) {\n",
        "    int id = *((int*) thread_id);\n",
        "    printf(\"Hola, soy el hilo %d\\n\", id);\n",
        "    pthread_exit(NULL); // Termina la ejecución del hilo.\n",
        "}\n",
        "\n",
        "int main() {\n",
        "    pthread_t threads[NUM_THREADS]; // Creamos un arreglo de hilos.\n",
        "    int thread_ids[NUM_THREADS]; // Creamos un arreglo de identificadores de hilo.\n",
        "\n",
        "    // Creamos NUM_THREADS hilos y los almacenamos en el arreglo threads.\n",
        "    // Cada hilo ejecuta la función print_hello y le pasamos como argumento el identificador del hilo.\n",
        "    for (int i = 0; i < NUM_THREADS; i++) {\n",
        "        thread_ids[i] = i; // Almacenamos el identificador del hilo en el arreglo thread_ids.\n",
        "        pthread_create(&threads[i], NULL, print_hello, (void*) &thread_ids[i]); // Creamos el hilo.\n",
        "    }\n",
        "\n",
        "    // Esperamos a que cada hilo termine su ejecución antes de que el hilo principal termine.\n",
        "    for (int i = 0; i < NUM_THREADS; i++) {\n",
        "        pthread_join(threads[i], NULL);\n",
        "    }\n",
        "\n",
        "    printf(\"Hola soy el hilo principal\\n\"); // Mensaje de saludo del hilo principal.\n",
        "    pthread_exit(NULL); // Termina la ejecución del hilo principal.\n",
        "    return 0;\n",
        "}"
      ]
    },
    {
      "cell_type": "code",
      "execution_count": null,
      "metadata": {
        "colab": {
          "base_uri": "https://localhost:8080/"
        },
        "id": "b_i7G9ONXodS",
        "outputId": "0a6e7488-6b50-4545-9266-76f439489046"
      },
      "outputs": [
        {
          "name": "stdout",
          "output_type": "stream",
          "text": [
            "Hola, soy el hilo 0\n",
            "Hola, soy el hilo 1\n",
            "Hola, soy el hilo 2\n",
            "Hola, soy el hilo 3\n",
            "Hola, soy el hilo 4\n",
            "Hola soy el hilo principal\n"
          ]
        }
      ],
      "source": [
        "# Importante agregar: \"-pthread\" para el correcto funcionamiento. Esta opción le dice al compilador que incluya la biblioteca de hilos.\n",
        "!gcc -pthread  hellothreadsC.c -o hellothreadsC\n",
        "!./hellothreadsC"
      ]
    },
    {
      "cell_type": "markdown",
      "metadata": {
        "id": "R_PmNrd3XuJa"
      },
      "source": [
        "## Uso de Hilos en C: uso de semáforos"
      ]
    },
    {
      "cell_type": "code",
      "execution_count": null,
      "metadata": {
        "colab": {
          "base_uri": "https://localhost:8080/"
        },
        "id": "qMRJ-P6HXoiM",
        "outputId": "e7e980c4-6bf6-41fe-d5a4-678a2648d6f6"
      },
      "outputs": [
        {
          "name": "stdout",
          "output_type": "stream",
          "text": [
            "Overwriting hellothreadsC.c\n"
          ]
        }
      ],
      "source": [
        "%%writefile hellothreadsC.c\n",
        "#include <stdio.h>\n",
        "#include <pthread.h>\n",
        "#include <semaphore.h>\n",
        "#include <unistd.h>\n",
        "\n",
        "#define NUM_THREADS 5 // Definimos una constante para el número de hilos a crear.\n",
        "sem_t semaphore; // Declaramos la variable semáforo.\n",
        "\n",
        "// Esta función será ejecutada por cada hilo creado.\n",
        "// Imprime un mensaje de saludo y el identificador del hilo.\n",
        "void *print_hello(void *thread_id) {\n",
        "    int id = *((int*) thread_id);\n",
        "    sem_wait(&semaphore); // Esperamos a que el semáforo se libere.\n",
        "    printf(\"Hola, soy el hilo %d\\n\", id);\n",
        "    sleep(2);\n",
        "    sem_post(&semaphore); // Liberamos el semáforo.\n",
        "    pthread_exit(NULL); // Termina la ejecución del hilo.\n",
        "}\n",
        "\n",
        "int main() {\n",
        "    pthread_t threads[NUM_THREADS]; // Creamos un arreglo de hilos.\n",
        "    int thread_ids[NUM_THREADS]; // Creamos un arreglo de identificadores de hilo.\n",
        "    sem_init(&semaphore, 0, 2); // Inicializamos la variable semáforo.\n",
        "\n",
        "    // Creamos NUM_THREADS hilos y los almacenamos en el arreglo threads.\n",
        "    // Cada hilo ejecuta la función print_hello y le pasamos como argumento el identificador del hilo.\n",
        "    for (int i = 0; i < NUM_THREADS; i++) {\n",
        "        thread_ids[i] = i; // Almacenamos el identificador del hilo en el arreglo thread_ids.\n",
        "        pthread_create(&threads[i], NULL, print_hello, (void*) &thread_ids[i]); // Creamos el hilo.\n",
        "    }\n",
        "\n",
        "    // Esperamos a que cada hilo termine su ejecución antes de que el hilo principal termine.\n",
        "    for (int i = 0; i < NUM_THREADS; i++) {\n",
        "        pthread_join(threads[i], NULL);\n",
        "    }\n",
        "\n",
        "    printf(\"Hola soy el hilo principal\\n\"); // Mensaje de saludo del hilo principal.\n",
        "    pthread_exit(NULL); // Termina la ejecución del hilo principal.\n",
        "    sem_destroy(&semaphore); // Destruimos la variable semáforo.\n",
        "    return 0;\n",
        "}\n"
      ]
    },
    {
      "cell_type": "code",
      "execution_count": null,
      "metadata": {
        "colab": {
          "base_uri": "https://localhost:8080/"
        },
        "id": "3aWT64q7XzcA",
        "outputId": "b8dea26d-ebae-49c0-cc25-356dd54880cf"
      },
      "outputs": [
        {
          "name": "stdout",
          "output_type": "stream",
          "text": [
            "Hola, soy el hilo 0\n",
            "Hola, soy el hilo 1\n",
            "Hola, soy el hilo 2\n",
            "Hola, soy el hilo 3\n",
            "Hola, soy el hilo 4\n",
            "Hola soy el hilo principal\n"
          ]
        }
      ],
      "source": [
        "# Importante agregar: \"-pthread\" para el correcto funcionamiento. Esta opción le dice al compilador que incluya la biblioteca de hilos.\n",
        "!gcc -pthread  hellothreadsC.c -o hellothreadsC\n",
        "!./hellothreadsC"
      ]
    },
    {
      "cell_type": "code",
      "execution_count": null,
      "metadata": {
        "id": "gN4WftV8XzeT"
      },
      "outputs": [],
      "source": []
    }
  ],
  "metadata": {
    "celltoolbar": "Tags",
    "colab": {
      "provenance": []
    },
    "gpuClass": "standard",
    "kernelspec": {
      "display_name": "Python 3 (ipykernel)",
      "language": "python",
      "name": "python3"
    },
    "language_info": {
      "codemirror_mode": {
        "name": "ipython",
        "version": 3
      },
      "file_extension": ".py",
      "mimetype": "text/x-python",
      "name": "python",
      "nbconvert_exporter": "python",
      "pygments_lexer": "ipython3",
      "version": "3.10.6"
    },
    "toc": {
      "toc_cell": false,
      "toc_number_sections": true,
      "toc_threshold": 6,
      "toc_window_display": false
    }
  },
  "nbformat": 4,
  "nbformat_minor": 0
}
