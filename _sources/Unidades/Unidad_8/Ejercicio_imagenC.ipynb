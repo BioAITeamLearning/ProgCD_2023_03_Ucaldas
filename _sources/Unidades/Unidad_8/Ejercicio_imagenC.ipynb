{
  "nbformat": 4,
  "nbformat_minor": 0,
  "metadata": {
    "colab": {
      "provenance": []
    },
    "kernelspec": {
      "name": "python3",
      "display_name": "Python 3"
    },
    "language_info": {
      "name": "python"
    }
  },
  "cells": [
    {
      "cell_type": "markdown",
      "source": [
        "## Ejemplo de carga de una imagen en C"
      ],
      "metadata": {
        "id": "hU2f1tt3A5GR"
      }
    },
    {
      "cell_type": "markdown",
      "source": [
        "### Instalemos algunas librerías útiles."
      ],
      "metadata": {
        "id": "cTGj4J9vxL31"
      }
    },
    {
      "cell_type": "code",
      "source": [
        "!sudo apt-get update\n",
        "!sudo apt-get install libpng-dev\n",
        "!sudo apt-get install libjpeg-dev"
      ],
      "metadata": {
        "colab": {
          "base_uri": "https://localhost:8080/"
        },
        "id": "crH6dchQBih3",
        "outputId": "fb6d5a73-d49e-4864-d9d1-9deba19245d4"
      },
      "execution_count": 1,
      "outputs": [
        {
          "output_type": "stream",
          "name": "stdout",
          "text": [
            "\r0% [Working]\r            \rHit:1 http://archive.ubuntu.com/ubuntu jammy InRelease\n",
            "\r0% [Waiting for headers] [Connecting to security.ubuntu.com] [Waiting for heade\r                                                                               \rGet:2 https://cloud.r-project.org/bin/linux/ubuntu jammy-cran40/ InRelease [3,626 B]\n",
            "\r0% [Waiting for headers] [Connecting to security.ubuntu.com] [Connecting to ppa\r                                                                               \rGet:3 https://developer.download.nvidia.com/compute/cuda/repos/ubuntu2204/x86_64  InRelease [1,581 B]\n",
            "\r0% [Waiting for headers] [Connecting to security.ubuntu.com (91.189.91.83)] [Co\r0% [Waiting for headers] [Connecting to security.ubuntu.com (91.189.91.83)] [Co\r                                                                               \rGet:4 http://archive.ubuntu.com/ubuntu jammy-updates InRelease [119 kB]\n",
            "Get:5 http://security.ubuntu.com/ubuntu jammy-security InRelease [110 kB]\n",
            "Get:6 http://archive.ubuntu.com/ubuntu jammy-backports InRelease [109 kB]\n",
            "Get:7 https://cloud.r-project.org/bin/linux/ubuntu jammy-cran40/ Packages [47.6 kB]\n",
            "Get:8 https://developer.download.nvidia.com/compute/cuda/repos/ubuntu2204/x86_64  Packages [632 kB]\n",
            "Get:9 http://archive.ubuntu.com/ubuntu jammy-updates/main amd64 Packages [1,535 kB]\n",
            "Get:10 http://security.ubuntu.com/ubuntu jammy-security/restricted amd64 Packages [1,494 kB]\n",
            "Hit:11 https://ppa.launchpadcontent.net/c2d4u.team/c2d4u4.0+/ubuntu jammy InRelease\n",
            "Get:12 http://archive.ubuntu.com/ubuntu jammy-updates/restricted amd64 Packages [1,520 kB]\n",
            "Get:13 http://archive.ubuntu.com/ubuntu jammy-updates/universe amd64 Packages [1,292 kB]\n",
            "Get:14 http://security.ubuntu.com/ubuntu jammy-security/universe amd64 Packages [1,027 kB]\n",
            "Get:15 http://security.ubuntu.com/ubuntu jammy-security/main amd64 Packages [1,265 kB]\n",
            "Get:16 http://archive.ubuntu.com/ubuntu jammy-backports/universe amd64 Packages [32.6 kB]\n",
            "Hit:17 https://ppa.launchpadcontent.net/deadsnakes/ppa/ubuntu jammy InRelease\n",
            "Hit:18 https://ppa.launchpadcontent.net/graphics-drivers/ppa/ubuntu jammy InRelease\n",
            "Hit:19 https://ppa.launchpadcontent.net/ubuntugis/ppa/ubuntu jammy InRelease\n",
            "Fetched 9,186 kB in 1s (8,125 kB/s)\n",
            "Reading package lists... Done\n",
            "Reading package lists... Done\n",
            "Building dependency tree... Done\n",
            "Reading state information... Done\n",
            "libpng-dev is already the newest version (1.6.37-3build5).\n",
            "0 upgraded, 0 newly installed, 0 to remove and 19 not upgraded.\n",
            "Reading package lists... Done\n",
            "Building dependency tree... Done\n",
            "Reading state information... Done\n",
            "libjpeg-dev is already the newest version (8c-2ubuntu10).\n",
            "libjpeg-dev set to manually installed.\n",
            "0 upgraded, 0 newly installed, 0 to remove and 19 not upgraded.\n"
          ]
        }
      ]
    },
    {
      "cell_type": "markdown",
      "source": [
        "### Ejemplo de como se deben escribir los programas en c para cargar imégenes\n",
        "\n",
        "Este código permite cargar cualquier tipo de imagen .PNG. Se le carga de manera dinámica la imagen en el momento de la ejecución por linea de comando."
      ],
      "metadata": {
        "id": "fEU3D_9JxS3y"
      }
    },
    {
      "cell_type": "code",
      "execution_count": 5,
      "metadata": {
        "colab": {
          "base_uri": "https://localhost:8080/"
        },
        "id": "aV7HsELsA1Dm",
        "outputId": "01c73fc9-c64c-43f2-d078-5dbaaf0e5806"
      },
      "outputs": [
        {
          "output_type": "stream",
          "name": "stdout",
          "text": [
            "Overwriting cargar_imagen.c\n"
          ]
        }
      ],
      "source": [
        "%%writefile cargar_imagen.c\n",
        "#include <png.h>\n",
        "#include <stdio.h>\n",
        "#include <stdlib.h>\n",
        "\n",
        "// Función para leer la imagen PNG y obtener su tamaño\n",
        "void read_png_file(char *filename, int *width, int *height) {\n",
        "    FILE *file = fopen(filename, \"rb\");\n",
        "    if(!file) abort();\n",
        "\n",
        "    png_structp png = png_create_read_struct(PNG_LIBPNG_VER_STRING, NULL, NULL, NULL);\n",
        "    if (!png) abort();\n",
        "\n",
        "    png_infop info = png_create_info_struct(png);\n",
        "    if (!info) abort();\n",
        "\n",
        "    if (setjmp(png_jmpbuf(png))) abort();\n",
        "\n",
        "    png_init_io(png, file);\n",
        "\n",
        "    png_read_info(png, info);\n",
        "\n",
        "    *width = png_get_image_width(png, info);\n",
        "    *height = png_get_image_height(png, info);\n",
        "\n",
        "    // Aquí podrías expandir el código para leer los datos de los píxeles si lo necesitas\n",
        "\n",
        "    fclose(file);\n",
        "}\n",
        "\n",
        "int main(int argc, char *argv[]) {\n",
        "    if (argc != 2) {\n",
        "        fprintf(stderr, \"Uso: %s <ruta de la imagen>\\n\", argv[0]);\n",
        "        return 1;\n",
        "    }\n",
        "\n",
        "    int width, height;\n",
        "    read_png_file(argv[1], &width, &height);\n",
        "\n",
        "    printf(\"Tamaño de la imagen: %d x %d\\n\", width, height);\n",
        "\n",
        "    return 0;\n",
        "}\n"
      ]
    },
    {
      "cell_type": "markdown",
      "source": [
        "#### Compilamos el archivo en C con las respectivas librerías."
      ],
      "metadata": {
        "id": "RdikQMakx9L0"
      }
    },
    {
      "cell_type": "code",
      "source": [
        "!gcc cargar_imagen.c -o imagen -lpng"
      ],
      "metadata": {
        "id": "asMPUS7fBV-W"
      },
      "execution_count": 4,
      "outputs": []
    },
    {
      "cell_type": "code",
      "source": [
        "!ls"
      ],
      "metadata": {
        "colab": {
          "base_uri": "https://localhost:8080/"
        },
        "id": "9KugUScqC75b",
        "outputId": "4d3aa721-66a4-4d12-a2b0-10bbef470122"
      },
      "execution_count": null,
      "outputs": [
        {
          "output_type": "stream",
          "name": "stdout",
          "text": [
            "cargar_imagen.c  gato.png  imagen  imagen.jpg  sample_data\n"
          ]
        }
      ]
    },
    {
      "cell_type": "markdown",
      "source": [
        "#### Ejecutamos el archivo que se genera del programa\n",
        "y le pasamos como argumento la ruta de la imágen"
      ],
      "metadata": {
        "id": "JUaXIxIpyDSn"
      }
    },
    {
      "cell_type": "code",
      "source": [
        "!wget -O imagen.png https://w7.pngwing.com/pngs/36/440/png-transparent-homer-simpson-computer-icons-technology-homero-miscellaneous-text-hand.png\n",
        "!wget -O imagen.jpeg https://w7.pngwing.com/pngs/36/440/png-transparent-homer-simpson-computer-icons-technology-homero-miscellaneous-text-hand.png"
      ],
      "metadata": {
        "colab": {
          "base_uri": "https://localhost:8080/"
        },
        "id": "c7TkzSXWyOiu",
        "outputId": "02a54c44-498a-42b9-e88e-19558e79ae42"
      },
      "execution_count": 15,
      "outputs": [
        {
          "output_type": "stream",
          "name": "stdout",
          "text": [
            "--2023-11-30 10:38:28--  https://w7.pngwing.com/pngs/36/440/png-transparent-homer-simpson-computer-icons-technology-homero-miscellaneous-text-hand.png\n",
            "Resolving w7.pngwing.com (w7.pngwing.com)... 172.67.165.106, 104.21.73.185, 2606:4700:3037::6815:49b9, ...\n",
            "Connecting to w7.pngwing.com (w7.pngwing.com)|172.67.165.106|:443... connected.\n",
            "HTTP request sent, awaiting response... 200 OK\n",
            "Length: 33266 (32K) [image/png]\n",
            "Saving to: ‘imagen.png’\n",
            "\n",
            "\rimagen.png            0%[                    ]       0  --.-KB/s               \rimagen.png          100%[===================>]  32.49K  --.-KB/s    in 0.01s   \n",
            "\n",
            "2023-11-30 10:38:29 (2.95 MB/s) - ‘imagen.png’ saved [33266/33266]\n",
            "\n",
            "--2023-11-30 10:38:29--  https://w7.pngwing.com/pngs/36/440/png-transparent-homer-simpson-computer-icons-technology-homero-miscellaneous-text-hand.png\n",
            "Resolving w7.pngwing.com (w7.pngwing.com)... 172.67.165.106, 104.21.73.185, 2606:4700:3037::6815:49b9, ...\n",
            "Connecting to w7.pngwing.com (w7.pngwing.com)|172.67.165.106|:443... connected.\n",
            "HTTP request sent, awaiting response... 200 OK\n",
            "Length: 33266 (32K) [image/png]\n",
            "Saving to: ‘imagen.jpeg’\n",
            "\n",
            "imagen.jpeg         100%[===================>]  32.49K  --.-KB/s    in 0.01s   \n",
            "\n",
            "2023-11-30 10:38:29 (2.77 MB/s) - ‘imagen.jpeg’ saved [33266/33266]\n",
            "\n"
          ]
        }
      ]
    },
    {
      "cell_type": "code",
      "source": [
        "!./imagen \"/content/imagen.png\""
      ],
      "metadata": {
        "id": "Wfsti14ABzWs",
        "colab": {
          "base_uri": "https://localhost:8080/"
        },
        "outputId": "47a76e82-bbf9-402b-afa4-a98f0dd7cfe0"
      },
      "execution_count": 14,
      "outputs": [
        {
          "output_type": "stream",
          "name": "stdout",
          "text": [
            "Tamaño de la imagen: 920 x 719\n"
          ]
        }
      ]
    },
    {
      "cell_type": "markdown",
      "source": [
        "### Estrategia paralela de filtrado.\n",
        "\n",
        "Para este vamos a aplicarle el filtro de sobel (vertical y horizontal) a la imágen y usando una estrategia paralela.\n",
        "\n",
        "Primero veamos como es el código de manera secuencial para este caso"
      ],
      "metadata": {
        "id": "EugtjOk7zGBd"
      }
    },
    {
      "cell_type": "code",
      "source": [
        "%%writefile filtro_image.c\n",
        "#include <stdio.h>\n",
        "#include <stdlib.h>\n",
        "#include <math.h>\n",
        "#include <time.h>\n",
        "#define STB_IMAGE_IMPLEMENTATION //Librerias para cargar imagen\n",
        "#include \"stb_image.h\"\n",
        "#define STB_IMAGE_WRITE_IMPLEMENTATION //libreria para guardar imagenes.\n",
        "#include \"stb_image_write.h\"\n",
        "\n",
        "void aplicar_filtro_bordes(unsigned char *input, unsigned char *output, int width, int height, int channels) {\n",
        "    int kernel_x[3][3] = {{-1, 0, 1}, {-2, 0, 2}, {-1, 0, 1}};\n",
        "    int kernel_y[3][3] = {{1, 2, 1}, {0, 0, 0}, {-1, -2, -1}};\n",
        "\n",
        "    for (int y = 1; y < height - 1; y++) {\n",
        "        for (int x = 1; x < width - 1; x++) {\n",
        "            float gx = 0, gy = 0;\n",
        "            for (int ky = -1; ky <= 1; ky++) {\n",
        "                for (int kx = -1; kx <= 1; kx++) {\n",
        "                    int p = input[(y + ky) * width + (x + kx)];\n",
        "                    gx += p * kernel_x[ky + 1][kx + 1];\n",
        "                    gy += p * kernel_y[ky + 1][kx + 1];\n",
        "                }\n",
        "            }\n",
        "            int magnitude = (int)sqrt(gx * gx + gy * gy);\n",
        "            magnitude = magnitude > 255 ? 255 : magnitude;\n",
        "            output[y * width + x] = (unsigned char)magnitude;\n",
        "        }\n",
        "    }\n",
        "}\n",
        "\n",
        "int main() {\n",
        "    int width, height, channels;\n",
        "    unsigned char *img = stbi_load(\"imagen.jpeg\", &width, &height, &channels, 1);\n",
        "    if (img == NULL) {\n",
        "        printf(\"Error al cargar la imagen\\n\");\n",
        "        return 1;\n",
        "    }\n",
        "\n",
        "    unsigned char *output_img = malloc(width * height * sizeof(unsigned char));\n",
        "    if (output_img == NULL) {\n",
        "        printf(\"No se pudo asignar memoria para la imagen de salida\\n\");\n",
        "        stbi_image_free(img);\n",
        "        return 1;\n",
        "    }\n",
        "\n",
        "    clock_t start, end;\n",
        "    double cpu_time_used;\n",
        "\n",
        "    start = clock();\n",
        "    aplicar_filtro_bordes(img, output_img, width, height, channels);\n",
        "    end = clock();\n",
        "    cpu_time_used = ((double) (end - start)) / CLOCKS_PER_SEC;\n",
        "\n",
        "    stbi_write_jpg(\"imagen_con_bordes.jpg\", width, height, 1, output_img, 100);\n",
        "\n",
        "    printf(\"Tiempo de ejecución: %f segundos\\n\", cpu_time_used);\n",
        "\n",
        "    stbi_image_free(img);\n",
        "    free(output_img);\n",
        "\n",
        "    return 0;\n",
        "}\n"
      ],
      "metadata": {
        "colab": {
          "base_uri": "https://localhost:8080/"
        },
        "id": "4DBj0pMVCzEK",
        "outputId": "96397922-3c03-4235-a0f5-1ba9fdd5ffa7"
      },
      "execution_count": 16,
      "outputs": [
        {
          "output_type": "stream",
          "name": "stdout",
          "text": [
            "Writing filtro_image.c\n"
          ]
        }
      ]
    },
    {
      "cell_type": "markdown",
      "source": [
        "#### Descargamos los archivos de las librerías externas"
      ],
      "metadata": {
        "id": "vyYiYDxDz1BL"
      }
    },
    {
      "cell_type": "code",
      "source": [
        "!wget https://raw.githubusercontent.com/nothings/stb/master/stb_image.h\n",
        "!wget https://raw.githubusercontent.com/nothings/stb/master/stb_image_write.h\n"
      ],
      "metadata": {
        "colab": {
          "base_uri": "https://localhost:8080/"
        },
        "id": "QOG5fblNEvNE",
        "outputId": "e335fa0f-6bd2-42b6-eb3b-5ea49f476efc"
      },
      "execution_count": 17,
      "outputs": [
        {
          "output_type": "stream",
          "name": "stdout",
          "text": [
            "--2023-11-30 10:38:46--  https://raw.githubusercontent.com/nothings/stb/master/stb_image.h\n",
            "Resolving raw.githubusercontent.com (raw.githubusercontent.com)... 185.199.109.133, 185.199.108.133, 185.199.110.133, ...\n",
            "Connecting to raw.githubusercontent.com (raw.githubusercontent.com)|185.199.109.133|:443... connected.\n",
            "HTTP request sent, awaiting response... 200 OK\n",
            "Length: 284733 (278K) [text/plain]\n",
            "Saving to: ‘stb_image.h’\n",
            "\n",
            "\rstb_image.h           0%[                    ]       0  --.-KB/s               \rstb_image.h         100%[===================>] 278.06K  --.-KB/s    in 0.04s   \n",
            "\n",
            "2023-11-30 10:38:46 (6.97 MB/s) - ‘stb_image.h’ saved [284733/284733]\n",
            "\n",
            "--2023-11-30 10:38:46--  https://raw.githubusercontent.com/nothings/stb/master/stb_image_write.h\n",
            "Resolving raw.githubusercontent.com (raw.githubusercontent.com)... 185.199.109.133, 185.199.110.133, 185.199.111.133, ...\n",
            "Connecting to raw.githubusercontent.com (raw.githubusercontent.com)|185.199.109.133|:443... connected.\n",
            "HTTP request sent, awaiting response... 200 OK\n",
            "Length: 71221 (70K) [text/plain]\n",
            "Saving to: ‘stb_image_write.h’\n",
            "\n",
            "stb_image_write.h   100%[===================>]  69.55K  --.-KB/s    in 0.02s   \n",
            "\n",
            "2023-11-30 10:38:47 (3.00 MB/s) - ‘stb_image_write.h’ saved [71221/71221]\n",
            "\n"
          ]
        }
      ]
    },
    {
      "cell_type": "markdown",
      "source": [
        "#### Verificamos que se descarguen los archivos."
      ],
      "metadata": {
        "id": "PmKafuV9z7Se"
      }
    },
    {
      "cell_type": "code",
      "source": [
        "!ls -l"
      ],
      "metadata": {
        "colab": {
          "base_uri": "https://localhost:8080/"
        },
        "id": "l0_LKsFQFSlq",
        "outputId": "f05042a1-c681-4bc3-ca74-118e2acfb428"
      },
      "execution_count": 18,
      "outputs": [
        {
          "output_type": "stream",
          "name": "stdout",
          "text": [
            "total 456\n",
            "-rw-r--r-- 1 root root   1034 Nov 30 10:30 cargar_imagen.c\n",
            "-rw-r--r-- 1 root root   2028 Nov 30 10:38 filtro_image.c\n",
            "-rwxr-xr-x 1 root root  16696 Nov 30 10:27 imagen\n",
            "-rw-r--r-- 1 root root  33266 Feb 18  2020 imagen.jpeg\n",
            "-rw-r--r-- 1 root root  33266 Feb 18  2020 imagen.png\n",
            "drwxr-xr-x 1 root root   4096 Nov 28 14:27 sample_data\n",
            "-rw-r--r-- 1 root root 284733 Nov 30 10:38 stb_image.h\n",
            "-rw-r--r-- 1 root root  71221 Nov 30 10:38 stb_image_write.h\n"
          ]
        }
      ]
    },
    {
      "cell_type": "markdown",
      "source": [
        "#### Se compila el programa con los respectivas banderas para tomar las librerias\n",
        "\n",
        "-lm es para que compile la libreria de funciones matemática como sqrt()"
      ],
      "metadata": {
        "id": "sDFWyVaPz_8q"
      }
    },
    {
      "cell_type": "code",
      "source": [
        "!gcc filtro_image.c -o filtro_image -lm\n"
      ],
      "metadata": {
        "id": "xVH-FOSgFUF0"
      },
      "execution_count": 19,
      "outputs": []
    },
    {
      "cell_type": "code",
      "source": [
        "!./filtro_image"
      ],
      "metadata": {
        "colab": {
          "base_uri": "https://localhost:8080/"
        },
        "id": "fESf6zmQFlCR",
        "outputId": "5c98082f-9e7b-41fd-a8cf-6f9014ebaf4e"
      },
      "execution_count": 20,
      "outputs": [
        {
          "output_type": "stream",
          "name": "stdout",
          "text": [
            "Tiempo de ejecución: 0.039270 segundos\n"
          ]
        }
      ]
    },
    {
      "cell_type": "markdown",
      "source": [
        "### Ahora con OpenMP"
      ],
      "metadata": {
        "id": "YhEXbfp5abZ3"
      }
    },
    {
      "cell_type": "markdown",
      "source": [
        "#### Descargamos las librerías útiles."
      ],
      "metadata": {
        "id": "rYkYjPns0c_B"
      }
    },
    {
      "cell_type": "code",
      "source": [
        "!sudo apt-get update\n",
        "!sudo apt-get install build-essential"
      ],
      "metadata": {
        "id": "B8dXDJKoFoiA",
        "colab": {
          "base_uri": "https://localhost:8080/"
        },
        "outputId": "dbffba91-765f-4c74-e18d-5e9faafc9b8d"
      },
      "execution_count": null,
      "outputs": [
        {
          "output_type": "stream",
          "name": "stdout",
          "text": [
            "\r0% [Working]\r            \rHit:1 https://cloud.r-project.org/bin/linux/ubuntu jammy-cran40/ InRelease\n",
            "\r0% [Connecting to archive.ubuntu.com (91.189.91.81)] [Waiting for headers] [Con\r                                                                               \rHit:2 https://developer.download.nvidia.com/compute/cuda/repos/ubuntu2204/x86_64  InRelease\n",
            "\r0% [Waiting for headers] [Waiting for headers] [Connected to ppa.launchpadconte\r                                                                               \rHit:3 http://archive.ubuntu.com/ubuntu jammy InRelease\n",
            "Hit:4 http://archive.ubuntu.com/ubuntu jammy-updates InRelease\n",
            "Get:5 http://security.ubuntu.com/ubuntu jammy-security InRelease [110 kB]\n",
            "Hit:6 http://archive.ubuntu.com/ubuntu jammy-backports InRelease\n",
            "Hit:7 https://ppa.launchpadcontent.net/c2d4u.team/c2d4u4.0+/ubuntu jammy InRelease\n",
            "Hit:8 https://ppa.launchpadcontent.net/deadsnakes/ppa/ubuntu jammy InRelease\n",
            "Hit:9 https://ppa.launchpadcontent.net/graphics-drivers/ppa/ubuntu jammy InRelease\n",
            "Hit:10 https://ppa.launchpadcontent.net/ubuntugis/ppa/ubuntu jammy InRelease\n",
            "Get:11 http://security.ubuntu.com/ubuntu jammy-security/main amd64 Packages [1,265 kB]\n",
            "Get:12 http://security.ubuntu.com/ubuntu jammy-security/restricted amd64 Packages [1,494 kB]\n",
            "Fetched 2,868 kB in 2s (1,758 kB/s)\n",
            "Reading package lists... Done\n",
            "Reading package lists... Done\n",
            "Building dependency tree... Done\n",
            "Reading state information... Done\n",
            "build-essential is already the newest version (12.9ubuntu3).\n",
            "0 upgraded, 0 newly installed, 0 to remove and 17 not upgraded.\n"
          ]
        }
      ]
    },
    {
      "cell_type": "markdown",
      "source": [
        "#### Escribimos el programa usando openMP.\n",
        "\n",
        "\n",
        "Note que la diferencia respecto al secuencial es la línea:\n",
        "\n",
        "```C\n",
        "#pragma omp parallel for collapse(2)\n",
        "```\n",
        "\n",
        "1. **```#pragma omp parallel for```** es una directiva de OpenMP que se utiliza para paralelizar un bucle for. Hace que el bucle se ejecute en varios hilos en paralelo, lo que puede acelerar significativamente el procesamiento si tienes un procesador de múltiples núcleos.\n",
        "\n",
        "2. **```collapse(2)```**: Este modificador especifica que los dos bucles for anidados más cercanos (en este caso, los bucles que iteran sobre **y** y **x**) deben colapsarse en un solo bucle iterativo para fines de paralelización. Esto es útil cuando cada bucle por sí solo no proporciona suficientes iteraciones para aprovechar completamente las capacidades de paralelización, pero combinados, ofrecen un número significativo de tareas independientes que pueden ser distribuidas entre los hilos disponibles.\n",
        "\n",
        "Verifique que el bucle externo itera a través de las filas (y) de la imagen y el bucle interno a través de las columnas (x). Al usar collapse(2), se trata la combinación de estas dos dimensiones como un único conjunto de iteraciones, lo que permite una distribución más eficiente de las iteraciones entre los hilos de OpenMP.\n",
        "\n"
      ],
      "metadata": {
        "id": "twnJFcwn0iOe"
      }
    },
    {
      "cell_type": "code",
      "source": [
        "%%writefile tu_programa.c\n",
        "#include <stdio.h>\n",
        "#include <stdlib.h>\n",
        "#include <math.h>\n",
        "#include <time.h>\n",
        "#include <omp.h>\n",
        "#define STB_IMAGE_IMPLEMENTATION\n",
        "#include \"stb_image.h\"\n",
        "#define STB_IMAGE_WRITE_IMPLEMENTATION\n",
        "#include \"stb_image_write.h\"\n",
        "\n",
        "void aplicar_filtro_bordes(unsigned char *input, unsigned char *output, int width, int height, int channels) {\n",
        "    int kernel_x[3][3] = {{-1, 0, 1}, {-2, 0, 2}, {-1, 0, 1}};\n",
        "    int kernel_y[3][3] = {{1, 2, 1}, {0, 0, 0}, {-1, -2, -1}};\n",
        "\n",
        "    #pragma omp parallel for collapse(2)\n",
        "    for (int y = 1; y < height - 1; y++) {\n",
        "        for (int x = 1; x < width - 1; x++) {\n",
        "            float gx = 0, gy = 0;\n",
        "            for (int ky = -1; ky <= 1; ky++) {\n",
        "                for (int kx = -1; kx <= 1; kx++) {\n",
        "                    int p = input[(y + ky) * width + (x + kx)];\n",
        "                    gx += p * kernel_x[ky + 1][kx + 1];\n",
        "                    gy += p * kernel_y[ky + 1][kx + 1];\n",
        "                }\n",
        "            }\n",
        "            int magnitude = (int)sqrt(gx * gx + gy * gy);\n",
        "            magnitude = magnitude > 255 ? 255 : magnitude;\n",
        "            output[y * width + x] = (unsigned char)magnitude;\n",
        "        }\n",
        "    }\n",
        "}\n",
        "\n",
        "int main() {\n",
        "    int width, height, channels;\n",
        "    unsigned char *img = stbi_load(\"imagen.jpeg\", &width, &height, &channels, 1);\n",
        "    if (img == NULL) {\n",
        "        printf(\"Error al cargar la imagen\\n\");\n",
        "        return 1;\n",
        "    }\n",
        "\n",
        "    unsigned char *output_img = malloc(width * height * sizeof(unsigned char));\n",
        "    if (output_img == NULL) {\n",
        "        printf(\"No se pudo asignar memoria para la imagen de salida\\n\");\n",
        "        stbi_image_free(img);\n",
        "        return 1;\n",
        "    }\n",
        "\n",
        "    clock_t start, end;\n",
        "    double cpu_time_used;\n",
        "\n",
        "    start = clock();\n",
        "    aplicar_filtro_bordes(img, output_img, width, height, channels);\n",
        "    end = clock();\n",
        "    cpu_time_used = ((double) (end - start)) / CLOCKS_PER_SEC;\n",
        "\n",
        "    stbi_write_jpg(\"imagen_con_bordes.jpg\", width, height, 1, output_img, 100);\n",
        "\n",
        "    printf(\"Tiempo de ejecución: %f segundos\\n\", cpu_time_used);\n",
        "\n",
        "    stbi_image_free(img);\n",
        "    free(output_img);\n",
        "\n",
        "    return 0;\n",
        "}"
      ],
      "metadata": {
        "colab": {
          "base_uri": "https://localhost:8080/"
        },
        "id": "syH8S24Wea-m",
        "outputId": "b6e291f1-2d07-4c71-c13d-d05e75bdbc57"
      },
      "execution_count": 26,
      "outputs": [
        {
          "output_type": "stream",
          "name": "stdout",
          "text": [
            "Overwriting tu_programa.c\n"
          ]
        }
      ]
    },
    {
      "cell_type": "code",
      "source": [
        "!gcc tu_programa.c -o tu_programa -fopenmp -lm"
      ],
      "metadata": {
        "id": "mwNCNy9wahMi"
      },
      "execution_count": 27,
      "outputs": []
    },
    {
      "cell_type": "code",
      "source": [
        "!./tu_programa"
      ],
      "metadata": {
        "colab": {
          "base_uri": "https://localhost:8080/"
        },
        "id": "f8HCDTeoejYx",
        "outputId": "bc6b71be-df3c-485a-8f97-cf0893fd094c"
      },
      "execution_count": 28,
      "outputs": [
        {
          "output_type": "stream",
          "name": "stdout",
          "text": [
            "Tiempo de ejecución: 0.060102 segundos\n"
          ]
        }
      ]
    },
    {
      "cell_type": "code",
      "source": [],
      "metadata": {
        "id": "H3n6RKvwfLjE"
      },
      "execution_count": null,
      "outputs": []
    }
  ]
}